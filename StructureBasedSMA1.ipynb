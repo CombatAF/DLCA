{
  "nbformat": 4,
  "nbformat_minor": 0,
  "metadata": {
    "colab": {
      "provenance": []
    },
    "kernelspec": {
      "name": "python3",
      "display_name": "Python 3"
    },
    "language_info": {
      "name": "python"
    }
  },
  "cells": [
    {
      "cell_type": "code",
      "execution_count": null,
      "metadata": {
        "id": "rmwuWxuwYTXQ"
      },
      "outputs": [],
      "source": [
        "import networkx as nx\n",
        "import matplotlib.pyplot as plt"
      ]
    },
    {
      "cell_type": "code",
      "source": [
        "G = nx.Graph()\n",
        "G.graph['name'] = \"Social Media Network\"\n",
        "print(\"Graph Name:\", G.graph['name'])\n",
        "G.add_nodes_from(['a', 'b', 'c'])\n",
        "G.add_edge('a', 'b')\n",
        "G.add_edge('a', 'c')\n",
        "G.edges()"
      ],
      "metadata": {
        "colab": {
          "base_uri": "https://localhost:8080/"
        },
        "id": "D-Qsl9biYqtH",
        "outputId": "3bfa350d-11f8-4c63-d08e-b844812a8b05"
      },
      "execution_count": null,
      "outputs": [
        {
          "output_type": "stream",
          "name": "stdout",
          "text": [
            "Graph Name: Social Media Network\n"
          ]
        },
        {
          "output_type": "execute_result",
          "data": {
            "text/plain": [
              "EdgeView([('a', 'b'), ('a', 'c')])"
            ]
          },
          "metadata": {},
          "execution_count": 4
        }
      ]
    },
    {
      "cell_type": "code",
      "source": [
        "degree = nx.degree_centrality(G)\n",
        "betweenness = nx.betweenness_centrality(G)\n",
        "closeness = nx.closeness_centrality(G)\n",
        "eigenvector = nx.eigenvector_centrality(G)\n",
        "\n",
        "nx.draw(G, with_labels=True, node_color='lightblue', node_size=2000, font_size=10)\n",
        "plt.show()"
      ],
      "metadata": {
        "colab": {
          "base_uri": "https://localhost:8080/",
          "height": 516
        },
        "id": "PpS3nUbxYtS1",
        "outputId": "46fc7070-08bf-4305-fc17-edda8e97acb4"
      },
      "execution_count": null,
      "outputs": [
        {
          "output_type": "display_data",
          "data": {
            "text/plain": [
              "<Figure size 640x480 with 1 Axes>"
            ],
            "image/png": "[encoded data removed]"
          },
          "metadata": {}
        }
      ]
    }
  ]
}